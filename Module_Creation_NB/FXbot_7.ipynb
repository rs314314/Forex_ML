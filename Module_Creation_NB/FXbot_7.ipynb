{
 "cells": [
  {
   "cell_type": "code",
   "execution_count": 1,
   "metadata": {},
   "outputs": [],
   "source": [
    "import requests\n",
    "import json\n",
    "import pandas as pd\n",
    "import numpy as np\n",
    "import time\n",
    "import statistics as stat\n",
    "import OANDA_api\n",
    "import info\n",
    "import utils\n",
    "import Indicators\n",
    "import info\n",
    "import Instruments"
   ]
  },
  {
   "cell_type": "code",
   "execution_count": 2,
   "metadata": {},
   "outputs": [],
   "source": [
    "api = OANDA_api.oanda_api()"
   ]
  },
  {
   "cell_type": "code",
   "execution_count": 3,
   "metadata": {},
   "outputs": [],
   "source": [
    "candles = api.complete_candles_df('USD_CAD', 40000, 'H1', 'MBA')"
   ]
  },
  {
   "cell_type": "code",
   "execution_count": 4,
   "metadata": {
    "scrolled": true
   },
   "outputs": [
    {
     "data": {
      "text/html": [
       "<div>\n",
       "<style scoped>\n",
       "    .dataframe tbody tr th:only-of-type {\n",
       "        vertical-align: middle;\n",
       "    }\n",
       "\n",
       "    .dataframe tbody tr th {\n",
       "        vertical-align: top;\n",
       "    }\n",
       "\n",
       "    .dataframe thead th {\n",
       "        text-align: right;\n",
       "    }\n",
       "</style>\n",
       "<table border=\"1\" class=\"dataframe\">\n",
       "  <thead>\n",
       "    <tr style=\"text-align: right;\">\n",
       "      <th></th>\n",
       "      <th>time</th>\n",
       "      <th>volume</th>\n",
       "      <th>mid_o</th>\n",
       "      <th>mid_h</th>\n",
       "      <th>mid_l</th>\n",
       "      <th>mid_c</th>\n",
       "      <th>bid_o</th>\n",
       "      <th>bid_h</th>\n",
       "      <th>bid_l</th>\n",
       "      <th>bid_c</th>\n",
       "      <th>ask_o</th>\n",
       "      <th>ask_h</th>\n",
       "      <th>ask_l</th>\n",
       "      <th>ask_c</th>\n",
       "    </tr>\n",
       "  </thead>\n",
       "  <tbody>\n",
       "    <tr>\n",
       "      <th>0</th>\n",
       "      <td>2015-07-30T00:00:00.000000000Z</td>\n",
       "      <td>590</td>\n",
       "      <td>1.29504</td>\n",
       "      <td>1.29599</td>\n",
       "      <td>1.29504</td>\n",
       "      <td>1.29532</td>\n",
       "      <td>1.29494</td>\n",
       "      <td>1.29590</td>\n",
       "      <td>1.29490</td>\n",
       "      <td>1.29522</td>\n",
       "      <td>1.29515</td>\n",
       "      <td>1.29609</td>\n",
       "      <td>1.29515</td>\n",
       "      <td>1.29542</td>\n",
       "    </tr>\n",
       "    <tr>\n",
       "      <th>1</th>\n",
       "      <td>2015-07-30T01:00:00.000000000Z</td>\n",
       "      <td>708</td>\n",
       "      <td>1.29532</td>\n",
       "      <td>1.29586</td>\n",
       "      <td>1.29492</td>\n",
       "      <td>1.29526</td>\n",
       "      <td>1.29520</td>\n",
       "      <td>1.29576</td>\n",
       "      <td>1.29479</td>\n",
       "      <td>1.29516</td>\n",
       "      <td>1.29543</td>\n",
       "      <td>1.29596</td>\n",
       "      <td>1.29503</td>\n",
       "      <td>1.29535</td>\n",
       "    </tr>\n",
       "    <tr>\n",
       "      <th>2</th>\n",
       "      <td>2015-07-30T02:00:00.000000000Z</td>\n",
       "      <td>712</td>\n",
       "      <td>1.29522</td>\n",
       "      <td>1.29597</td>\n",
       "      <td>1.29512</td>\n",
       "      <td>1.29530</td>\n",
       "      <td>1.29512</td>\n",
       "      <td>1.29587</td>\n",
       "      <td>1.29500</td>\n",
       "      <td>1.29519</td>\n",
       "      <td>1.29531</td>\n",
       "      <td>1.29608</td>\n",
       "      <td>1.29524</td>\n",
       "      <td>1.29540</td>\n",
       "    </tr>\n",
       "    <tr>\n",
       "      <th>3</th>\n",
       "      <td>2015-07-30T03:00:00.000000000Z</td>\n",
       "      <td>378</td>\n",
       "      <td>1.29529</td>\n",
       "      <td>1.29573</td>\n",
       "      <td>1.29510</td>\n",
       "      <td>1.29558</td>\n",
       "      <td>1.29518</td>\n",
       "      <td>1.29563</td>\n",
       "      <td>1.29500</td>\n",
       "      <td>1.29548</td>\n",
       "      <td>1.29540</td>\n",
       "      <td>1.29584</td>\n",
       "      <td>1.29521</td>\n",
       "      <td>1.29568</td>\n",
       "    </tr>\n",
       "    <tr>\n",
       "      <th>4</th>\n",
       "      <td>2015-07-30T04:00:00.000000000Z</td>\n",
       "      <td>402</td>\n",
       "      <td>1.29562</td>\n",
       "      <td>1.29597</td>\n",
       "      <td>1.29550</td>\n",
       "      <td>1.29589</td>\n",
       "      <td>1.29552</td>\n",
       "      <td>1.29587</td>\n",
       "      <td>1.29539</td>\n",
       "      <td>1.29578</td>\n",
       "      <td>1.29573</td>\n",
       "      <td>1.29607</td>\n",
       "      <td>1.29560</td>\n",
       "      <td>1.29600</td>\n",
       "    </tr>\n",
       "  </tbody>\n",
       "</table>\n",
       "</div>"
      ],
      "text/plain": [
       "                             time  volume    mid_o    mid_h    mid_l    mid_c  \\\n",
       "0  2015-07-30T00:00:00.000000000Z     590  1.29504  1.29599  1.29504  1.29532   \n",
       "1  2015-07-30T01:00:00.000000000Z     708  1.29532  1.29586  1.29492  1.29526   \n",
       "2  2015-07-30T02:00:00.000000000Z     712  1.29522  1.29597  1.29512  1.29530   \n",
       "3  2015-07-30T03:00:00.000000000Z     378  1.29529  1.29573  1.29510  1.29558   \n",
       "4  2015-07-30T04:00:00.000000000Z     402  1.29562  1.29597  1.29550  1.29589   \n",
       "\n",
       "     bid_o    bid_h    bid_l    bid_c    ask_o    ask_h    ask_l    ask_c  \n",
       "0  1.29494  1.29590  1.29490  1.29522  1.29515  1.29609  1.29515  1.29542  \n",
       "1  1.29520  1.29576  1.29479  1.29516  1.29543  1.29596  1.29503  1.29535  \n",
       "2  1.29512  1.29587  1.29500  1.29519  1.29531  1.29608  1.29524  1.29540  \n",
       "3  1.29518  1.29563  1.29500  1.29548  1.29540  1.29584  1.29521  1.29568  \n",
       "4  1.29552  1.29587  1.29539  1.29578  1.29573  1.29607  1.29560  1.29600  "
      ]
     },
     "execution_count": 4,
     "metadata": {},
     "output_type": "execute_result"
    }
   ],
   "source": [
    "candles.head()"
   ]
  },
  {
   "cell_type": "code",
   "execution_count": 5,
   "metadata": {},
   "outputs": [],
   "source": [
    "Indicators.relative_strength_index(candles)"
   ]
  },
  {
   "cell_type": "code",
   "execution_count": 6,
   "metadata": {
    "scrolled": true
   },
   "outputs": [],
   "source": [
    "Indicators.macd(candles)"
   ]
  },
  {
   "cell_type": "code",
   "execution_count": 7,
   "metadata": {},
   "outputs": [],
   "source": [
    "Indicators.exponential_moving_average(candles, 'open', 20)"
   ]
  },
  {
   "cell_type": "code",
   "execution_count": 8,
   "metadata": {},
   "outputs": [
    {
     "data": {
      "text/plain": [
       "Index(['time', 'volume', 'mid_o', 'mid_h', 'mid_l', 'mid_c', 'bid_o', 'bid_h',\n",
       "       'bid_l', 'bid_c', 'ask_o', 'ask_h', 'ask_l', 'ask_c', 'rsi_14',\n",
       "       'MACD_12_26_9', 'EMA_20'],\n",
       "      dtype='object')"
      ]
     },
     "execution_count": 8,
     "metadata": {},
     "output_type": "execute_result"
    }
   ],
   "source": [
    "candles.columns"
   ]
  },
  {
   "cell_type": "code",
   "execution_count": 9,
   "metadata": {},
   "outputs": [],
   "source": [
    "useful_candles = candles[['time', 'bid_h', 'ask_l']]"
   ]
  },
  {
   "cell_type": "code",
   "execution_count": 10,
   "metadata": {
    "scrolled": true
   },
   "outputs": [
    {
     "data": {
      "text/html": [
       "<div>\n",
       "<style scoped>\n",
       "    .dataframe tbody tr th:only-of-type {\n",
       "        vertical-align: middle;\n",
       "    }\n",
       "\n",
       "    .dataframe tbody tr th {\n",
       "        vertical-align: top;\n",
       "    }\n",
       "\n",
       "    .dataframe thead th {\n",
       "        text-align: right;\n",
       "    }\n",
       "</style>\n",
       "<table border=\"1\" class=\"dataframe\">\n",
       "  <thead>\n",
       "    <tr style=\"text-align: right;\">\n",
       "      <th></th>\n",
       "      <th>time</th>\n",
       "      <th>bid_h</th>\n",
       "      <th>ask_l</th>\n",
       "    </tr>\n",
       "  </thead>\n",
       "  <tbody>\n",
       "    <tr>\n",
       "      <th>0</th>\n",
       "      <td>2015-07-30T00:00:00.000000000Z</td>\n",
       "      <td>1.29590</td>\n",
       "      <td>1.29515</td>\n",
       "    </tr>\n",
       "    <tr>\n",
       "      <th>1</th>\n",
       "      <td>2015-07-30T01:00:00.000000000Z</td>\n",
       "      <td>1.29576</td>\n",
       "      <td>1.29503</td>\n",
       "    </tr>\n",
       "    <tr>\n",
       "      <th>2</th>\n",
       "      <td>2015-07-30T02:00:00.000000000Z</td>\n",
       "      <td>1.29587</td>\n",
       "      <td>1.29524</td>\n",
       "    </tr>\n",
       "    <tr>\n",
       "      <th>3</th>\n",
       "      <td>2015-07-30T03:00:00.000000000Z</td>\n",
       "      <td>1.29563</td>\n",
       "      <td>1.29521</td>\n",
       "    </tr>\n",
       "    <tr>\n",
       "      <th>4</th>\n",
       "      <td>2015-07-30T04:00:00.000000000Z</td>\n",
       "      <td>1.29587</td>\n",
       "      <td>1.29560</td>\n",
       "    </tr>\n",
       "  </tbody>\n",
       "</table>\n",
       "</div>"
      ],
      "text/plain": [
       "                             time    bid_h    ask_l\n",
       "0  2015-07-30T00:00:00.000000000Z  1.29590  1.29515\n",
       "1  2015-07-30T01:00:00.000000000Z  1.29576  1.29503\n",
       "2  2015-07-30T02:00:00.000000000Z  1.29587  1.29524\n",
       "3  2015-07-30T03:00:00.000000000Z  1.29563  1.29521\n",
       "4  2015-07-30T04:00:00.000000000Z  1.29587  1.29560"
      ]
     },
     "execution_count": 10,
     "metadata": {},
     "output_type": "execute_result"
    }
   ],
   "source": [
    "useful_candles.head()"
   ]
  },
  {
   "cell_type": "code",
   "execution_count": 11,
   "metadata": {},
   "outputs": [],
   "source": [
    "currencies = ['EUR', 'USD', 'GBP', 'JPY', 'CHF', 'NZD', 'CAD', 'AUD', 'CHF']"
   ]
  },
  {
   "cell_type": "code",
   "execution_count": 12,
   "metadata": {},
   "outputs": [],
   "source": [
    "ins_df = pd.read_pickle('instruments.pkl')"
   ]
  },
  {
   "cell_type": "code",
   "execution_count": 14,
   "metadata": {},
   "outputs": [
    {
     "name": "stdout",
     "output_type": "stream",
     "text": [
      "EUR_USD\n",
      "EUR_GBP\n",
      "EUR_JPY\n",
      "EUR_CHF\n",
      "EUR_NZD\n",
      "EUR_CAD\n",
      "EUR_AUD\n",
      "EUR_CHF\n",
      "USD_JPY\n",
      "USD_CHF\n",
      "USD_CAD\n",
      "USD_CHF\n",
      "GBP_USD\n",
      "GBP_JPY\n",
      "GBP_CHF\n",
      "GBP_NZD\n",
      "GBP_CAD\n",
      "GBP_AUD\n",
      "GBP_CHF\n",
      "CHF_JPY\n",
      "NZD_USD\n",
      "NZD_JPY\n",
      "NZD_CHF\n",
      "NZD_CAD\n",
      "NZD_CHF\n",
      "CAD_JPY\n",
      "CAD_CHF\n",
      "CAD_CHF\n",
      "AUD_USD\n",
      "AUD_JPY\n",
      "AUD_CHF\n",
      "AUD_NZD\n",
      "AUD_CAD\n",
      "AUD_CHF\n",
      "CHF_JPY\n"
     ]
    }
   ],
   "source": [
    "for p1 in currencies:\n",
    "    for p2 in currencies:\n",
    "        pair = f'{p1}_{p2}'\n",
    "        if pair in ins_df.name.unique():\n",
    "            candles = api.complete_candles_df(pair, 80000, 'H1', 'MBA')\n",
    "            candles.to_pickle(f'candles_data/{pair}_H1.pkl')\n",
    "            print(pair)"
   ]
  }
 ],
 "metadata": {
  "kernelspec": {
   "display_name": "Python 3",
   "language": "python",
   "name": "python3"
  },
  "language_info": {
   "codemirror_mode": {
    "name": "ipython",
    "version": 3
   },
   "file_extension": ".py",
   "mimetype": "text/x-python",
   "name": "python",
   "nbconvert_exporter": "python",
   "pygments_lexer": "ipython3",
   "version": "3.8.5"
  }
 },
 "nbformat": 4,
 "nbformat_minor": 4
}
