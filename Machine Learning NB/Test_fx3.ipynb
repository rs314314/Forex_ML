{
 "cells": [
  {
   "cell_type": "markdown",
   "metadata": {},
   "source": [
    "# Model Testing and Validation"
   ]
  },
  {
   "cell_type": "code",
   "execution_count": 1,
   "metadata": {},
   "outputs": [],
   "source": [
    "import pandas as pd\n",
    "import numpy as np\n",
    "import sklearn as skl"
   ]
  },
  {
   "cell_type": "markdown",
   "metadata": {},
   "source": [
    "### Upload Data"
   ]
  },
  {
   "cell_type": "code",
   "execution_count": 2,
   "metadata": {},
   "outputs": [],
   "source": [
    "candles = pd.read_pickle('CAD_USD_H2')"
   ]
  },
  {
   "cell_type": "code",
   "execution_count": 3,
   "metadata": {},
   "outputs": [
    {
     "data": {
      "text/html": [
       "<div>\n",
       "<style scoped>\n",
       "    .dataframe tbody tr th:only-of-type {\n",
       "        vertical-align: middle;\n",
       "    }\n",
       "\n",
       "    .dataframe tbody tr th {\n",
       "        vertical-align: top;\n",
       "    }\n",
       "\n",
       "    .dataframe thead th {\n",
       "        text-align: right;\n",
       "    }\n",
       "</style>\n",
       "<table border=\"1\" class=\"dataframe\">\n",
       "  <thead>\n",
       "    <tr style=\"text-align: right;\">\n",
       "      <th></th>\n",
       "      <th>range_14</th>\n",
       "      <th>mid_c_prev</th>\n",
       "      <th>stochastic_range_k</th>\n",
       "      <th>stochastic_range_d</th>\n",
       "      <th>rsi_14_lag_1</th>\n",
       "      <th>MACD_12_26_9_lag_1</th>\n",
       "      <th>mid_o_lag_1</th>\n",
       "      <th>mid_l_lag_1</th>\n",
       "      <th>mid_h_lag_1</th>\n",
       "      <th>stochastic_range_k_lag_1</th>\n",
       "      <th>...</th>\n",
       "      <th>stochastic_range_d_lag_9</th>\n",
       "      <th>rsi_14_lag_10</th>\n",
       "      <th>MACD_12_26_9_lag_10</th>\n",
       "      <th>mid_o_lag_10</th>\n",
       "      <th>mid_l_lag_10</th>\n",
       "      <th>mid_h_lag_10</th>\n",
       "      <th>stochastic_range_k_lag_10</th>\n",
       "      <th>stochastic_range_d_lag_10</th>\n",
       "      <th>long</th>\n",
       "      <th>short</th>\n",
       "    </tr>\n",
       "  </thead>\n",
       "  <tbody>\n",
       "    <tr>\n",
       "      <th>37</th>\n",
       "      <td>0.00959</td>\n",
       "      <td>0.97308</td>\n",
       "      <td>0.222000</td>\n",
       "      <td>0.196333</td>\n",
       "      <td>33.408488</td>\n",
       "      <td>-0.000375</td>\n",
       "      <td>0.00057</td>\n",
       "      <td>0.00057</td>\n",
       "      <td>-0.00083</td>\n",
       "      <td>0.213000</td>\n",
       "      <td>...</td>\n",
       "      <td>0.066845</td>\n",
       "      <td>37.432008</td>\n",
       "      <td>0.000000</td>\n",
       "      <td>-0.00340</td>\n",
       "      <td>-0.00311</td>\n",
       "      <td>-0.00532</td>\n",
       "      <td>0.151000</td>\n",
       "      <td>0.106078</td>\n",
       "      <td>False</td>\n",
       "      <td>False</td>\n",
       "    </tr>\n",
       "    <tr>\n",
       "      <th>38</th>\n",
       "      <td>0.00959</td>\n",
       "      <td>0.97317</td>\n",
       "      <td>0.065361</td>\n",
       "      <td>0.166787</td>\n",
       "      <td>33.796158</td>\n",
       "      <td>-0.000232</td>\n",
       "      <td>0.00006</td>\n",
       "      <td>0.00019</td>\n",
       "      <td>-0.00052</td>\n",
       "      <td>0.222000</td>\n",
       "      <td>...</td>\n",
       "      <td>0.095262</td>\n",
       "      <td>33.116789</td>\n",
       "      <td>-0.000124</td>\n",
       "      <td>-0.00455</td>\n",
       "      <td>-0.00300</td>\n",
       "      <td>-0.00555</td>\n",
       "      <td>0.043000</td>\n",
       "      <td>0.066845</td>\n",
       "      <td>True</td>\n",
       "      <td>False</td>\n",
       "    </tr>\n",
       "    <tr>\n",
       "      <th>39</th>\n",
       "      <td>0.00851</td>\n",
       "      <td>0.97153</td>\n",
       "      <td>0.148587</td>\n",
       "      <td>0.134529</td>\n",
       "      <td>28.903525</td>\n",
       "      <td>-0.000218</td>\n",
       "      <td>-0.00162</td>\n",
       "      <td>0.00009</td>\n",
       "      <td>-0.00176</td>\n",
       "      <td>0.065361</td>\n",
       "      <td>...</td>\n",
       "      <td>0.079146</td>\n",
       "      <td>27.659356</td>\n",
       "      <td>-0.000305</td>\n",
       "      <td>-0.00505</td>\n",
       "      <td>-0.00277</td>\n",
       "      <td>-0.00592</td>\n",
       "      <td>0.050000</td>\n",
       "      <td>0.095262</td>\n",
       "      <td>False</td>\n",
       "      <td>True</td>\n",
       "    </tr>\n",
       "    <tr>\n",
       "      <th>40</th>\n",
       "      <td>0.00819</td>\n",
       "      <td>0.97238</td>\n",
       "      <td>0.426892</td>\n",
       "      <td>0.208570</td>\n",
       "      <td>34.162447</td>\n",
       "      <td>-0.000126</td>\n",
       "      <td>0.00083</td>\n",
       "      <td>0.00121</td>\n",
       "      <td>-0.00022</td>\n",
       "      <td>0.148587</td>\n",
       "      <td>...</td>\n",
       "      <td>0.124180</td>\n",
       "      <td>22.628277</td>\n",
       "      <td>-0.000540</td>\n",
       "      <td>-0.00239</td>\n",
       "      <td>0.00092</td>\n",
       "      <td>-0.00322</td>\n",
       "      <td>0.108000</td>\n",
       "      <td>0.079146</td>\n",
       "      <td>False</td>\n",
       "      <td>True</td>\n",
       "    </tr>\n",
       "    <tr>\n",
       "      <th>41</th>\n",
       "      <td>0.00777</td>\n",
       "      <td>0.97500</td>\n",
       "      <td>0.371000</td>\n",
       "      <td>0.303889</td>\n",
       "      <td>47.310287</td>\n",
       "      <td>0.000123</td>\n",
       "      <td>0.00260</td>\n",
       "      <td>0.00283</td>\n",
       "      <td>-0.00028</td>\n",
       "      <td>0.426892</td>\n",
       "      <td>...</td>\n",
       "      <td>0.079521</td>\n",
       "      <td>24.485597</td>\n",
       "      <td>-0.000635</td>\n",
       "      <td>0.00249</td>\n",
       "      <td>0.00372</td>\n",
       "      <td>0.00141</td>\n",
       "      <td>0.198906</td>\n",
       "      <td>0.124180</td>\n",
       "      <td>True</td>\n",
       "      <td>False</td>\n",
       "    </tr>\n",
       "  </tbody>\n",
       "</table>\n",
       "<p>5 rows × 76 columns</p>\n",
       "</div>"
      ],
      "text/plain": [
       "    range_14  mid_c_prev  stochastic_range_k  stochastic_range_d  \\\n",
       "37   0.00959     0.97308            0.222000            0.196333   \n",
       "38   0.00959     0.97317            0.065361            0.166787   \n",
       "39   0.00851     0.97153            0.148587            0.134529   \n",
       "40   0.00819     0.97238            0.426892            0.208570   \n",
       "41   0.00777     0.97500            0.371000            0.303889   \n",
       "\n",
       "    rsi_14_lag_1  MACD_12_26_9_lag_1  mid_o_lag_1  mid_l_lag_1  mid_h_lag_1  \\\n",
       "37     33.408488           -0.000375      0.00057      0.00057     -0.00083   \n",
       "38     33.796158           -0.000232      0.00006      0.00019     -0.00052   \n",
       "39     28.903525           -0.000218     -0.00162      0.00009     -0.00176   \n",
       "40     34.162447           -0.000126      0.00083      0.00121     -0.00022   \n",
       "41     47.310287            0.000123      0.00260      0.00283     -0.00028   \n",
       "\n",
       "    stochastic_range_k_lag_1  ...  stochastic_range_d_lag_9  rsi_14_lag_10  \\\n",
       "37                  0.213000  ...                  0.066845      37.432008   \n",
       "38                  0.222000  ...                  0.095262      33.116789   \n",
       "39                  0.065361  ...                  0.079146      27.659356   \n",
       "40                  0.148587  ...                  0.124180      22.628277   \n",
       "41                  0.426892  ...                  0.079521      24.485597   \n",
       "\n",
       "    MACD_12_26_9_lag_10  mid_o_lag_10  mid_l_lag_10  mid_h_lag_10  \\\n",
       "37             0.000000      -0.00340      -0.00311      -0.00532   \n",
       "38            -0.000124      -0.00455      -0.00300      -0.00555   \n",
       "39            -0.000305      -0.00505      -0.00277      -0.00592   \n",
       "40            -0.000540      -0.00239       0.00092      -0.00322   \n",
       "41            -0.000635       0.00249       0.00372       0.00141   \n",
       "\n",
       "    stochastic_range_k_lag_10  stochastic_range_d_lag_10   long  short  \n",
       "37                   0.151000                   0.106078  False  False  \n",
       "38                   0.043000                   0.066845   True  False  \n",
       "39                   0.050000                   0.095262  False   True  \n",
       "40                   0.108000                   0.079146  False   True  \n",
       "41                   0.198906                   0.124180   True  False  \n",
       "\n",
       "[5 rows x 76 columns]"
      ]
     },
     "execution_count": 3,
     "metadata": {},
     "output_type": "execute_result"
    }
   ],
   "source": [
    "candles.head()"
   ]
  },
  {
   "cell_type": "markdown",
   "metadata": {},
   "source": [
    "### Data Preparation"
   ]
  },
  {
   "cell_type": "code",
   "execution_count": 4,
   "metadata": {},
   "outputs": [],
   "source": [
    "'''\n",
    "Separate the decision (y) variable (long, short) from the rest of the features (X)\n",
    "'''\n",
    "\n",
    "candle_features = candles[[col for col in candles.columns if col not in ['long', 'short']]]\n",
    "long = candles['long']\n",
    "short = candles['short']"
   ]
  },
  {
   "cell_type": "code",
   "execution_count": 5,
   "metadata": {},
   "outputs": [],
   "source": [
    "from sklearn.preprocessing import StandardScaler"
   ]
  },
  {
   "cell_type": "code",
   "execution_count": 6,
   "metadata": {},
   "outputs": [],
   "source": [
    "'''\n",
    "Normalize features for faster model building\n",
    "'''\n",
    "\n",
    "scaler = StandardScaler()\n",
    "scaler.fit(candle_features)\n",
    "\n",
    "scaled_candles = scaler.transform(candle_features)"
   ]
  },
  {
   "cell_type": "code",
   "execution_count": 7,
   "metadata": {},
   "outputs": [],
   "source": [
    "'''\n",
    "Split the training data from the testing data\n",
    "'''\n",
    "x_train_candles = scaled_candles[:-3069]\n",
    "y_train_long = long[:-3069]\n",
    "y_train_short = short[:-3069]\n",
    "\n",
    "x_test_candles = scaled_candles[-3069:]\n",
    "y_test_long = long[-3069:]\n",
    "y_test_short = short[-3069:]\n",
    "\n",
    "y_test_long.reset_index(drop=True, inplace=True)\n",
    "y_test_short.reset_index(drop=True, inplace=True)"
   ]
  },
  {
   "cell_type": "markdown",
   "metadata": {},
   "source": [
    "### Model Training"
   ]
  },
  {
   "cell_type": "code",
   "execution_count": 8,
   "metadata": {},
   "outputs": [],
   "source": [
    "from sklearn.linear_model import LogisticRegression as LR"
   ]
  },
  {
   "cell_type": "code",
   "execution_count": 9,
   "metadata": {},
   "outputs": [],
   "source": [
    "'''\n",
    "Initialize models with the optimal parameters from model validation\n",
    "'''\n",
    "long_model = LR(penalty='l1', solver='liblinear', C=1)\n",
    "short_model = LR(penalty='l1', solver='liblinear', C=0.1)"
   ]
  },
  {
   "cell_type": "code",
   "execution_count": 10,
   "metadata": {
    "scrolled": true
   },
   "outputs": [
    {
     "data": {
      "text/html": [
       "<style>#sk-container-id-1 {color: black;background-color: white;}#sk-container-id-1 pre{padding: 0;}#sk-container-id-1 div.sk-toggleable {background-color: white;}#sk-container-id-1 label.sk-toggleable__label {cursor: pointer;display: block;width: 100%;margin-bottom: 0;padding: 0.3em;box-sizing: border-box;text-align: center;}#sk-container-id-1 label.sk-toggleable__label-arrow:before {content: \"▸\";float: left;margin-right: 0.25em;color: #696969;}#sk-container-id-1 label.sk-toggleable__label-arrow:hover:before {color: black;}#sk-container-id-1 div.sk-estimator:hover label.sk-toggleable__label-arrow:before {color: black;}#sk-container-id-1 div.sk-toggleable__content {max-height: 0;max-width: 0;overflow: hidden;text-align: left;background-color: #f0f8ff;}#sk-container-id-1 div.sk-toggleable__content pre {margin: 0.2em;color: black;border-radius: 0.25em;background-color: #f0f8ff;}#sk-container-id-1 input.sk-toggleable__control:checked~div.sk-toggleable__content {max-height: 200px;max-width: 100%;overflow: auto;}#sk-container-id-1 input.sk-toggleable__control:checked~label.sk-toggleable__label-arrow:before {content: \"▾\";}#sk-container-id-1 div.sk-estimator input.sk-toggleable__control:checked~label.sk-toggleable__label {background-color: #d4ebff;}#sk-container-id-1 div.sk-label input.sk-toggleable__control:checked~label.sk-toggleable__label {background-color: #d4ebff;}#sk-container-id-1 input.sk-hidden--visually {border: 0;clip: rect(1px 1px 1px 1px);clip: rect(1px, 1px, 1px, 1px);height: 1px;margin: -1px;overflow: hidden;padding: 0;position: absolute;width: 1px;}#sk-container-id-1 div.sk-estimator {font-family: monospace;background-color: #f0f8ff;border: 1px dotted black;border-radius: 0.25em;box-sizing: border-box;margin-bottom: 0.5em;}#sk-container-id-1 div.sk-estimator:hover {background-color: #d4ebff;}#sk-container-id-1 div.sk-parallel-item::after {content: \"\";width: 100%;border-bottom: 1px solid gray;flex-grow: 1;}#sk-container-id-1 div.sk-label:hover label.sk-toggleable__label {background-color: #d4ebff;}#sk-container-id-1 div.sk-serial::before {content: \"\";position: absolute;border-left: 1px solid gray;box-sizing: border-box;top: 0;bottom: 0;left: 50%;z-index: 0;}#sk-container-id-1 div.sk-serial {display: flex;flex-direction: column;align-items: center;background-color: white;padding-right: 0.2em;padding-left: 0.2em;position: relative;}#sk-container-id-1 div.sk-item {position: relative;z-index: 1;}#sk-container-id-1 div.sk-parallel {display: flex;align-items: stretch;justify-content: center;background-color: white;position: relative;}#sk-container-id-1 div.sk-item::before, #sk-container-id-1 div.sk-parallel-item::before {content: \"\";position: absolute;border-left: 1px solid gray;box-sizing: border-box;top: 0;bottom: 0;left: 50%;z-index: -1;}#sk-container-id-1 div.sk-parallel-item {display: flex;flex-direction: column;z-index: 1;position: relative;background-color: white;}#sk-container-id-1 div.sk-parallel-item:first-child::after {align-self: flex-end;width: 50%;}#sk-container-id-1 div.sk-parallel-item:last-child::after {align-self: flex-start;width: 50%;}#sk-container-id-1 div.sk-parallel-item:only-child::after {width: 0;}#sk-container-id-1 div.sk-dashed-wrapped {border: 1px dashed gray;margin: 0 0.4em 0.5em 0.4em;box-sizing: border-box;padding-bottom: 0.4em;background-color: white;}#sk-container-id-1 div.sk-label label {font-family: monospace;font-weight: bold;display: inline-block;line-height: 1.2em;}#sk-container-id-1 div.sk-label-container {text-align: center;}#sk-container-id-1 div.sk-container {/* jupyter's `normalize.less` sets `[hidden] { display: none; }` but bootstrap.min.css set `[hidden] { display: none !important; }` so we also need the `!important` here to be able to override the default hidden behavior on the sphinx rendered scikit-learn.org. See: https://github.com/scikit-learn/scikit-learn/issues/21755 */display: inline-block !important;position: relative;}#sk-container-id-1 div.sk-text-repr-fallback {display: none;}</style><div id=\"sk-container-id-1\" class=\"sk-top-container\"><div class=\"sk-text-repr-fallback\"><pre>LogisticRegression(C=0.1, penalty=&#x27;l1&#x27;, solver=&#x27;liblinear&#x27;)</pre><b>In a Jupyter environment, please rerun this cell to show the HTML representation or trust the notebook. <br />On GitHub, the HTML representation is unable to render, please try loading this page with nbviewer.org.</b></div><div class=\"sk-container\" hidden><div class=\"sk-item\"><div class=\"sk-estimator sk-toggleable\"><input class=\"sk-toggleable__control sk-hidden--visually\" id=\"sk-estimator-id-1\" type=\"checkbox\" checked><label for=\"sk-estimator-id-1\" class=\"sk-toggleable__label sk-toggleable__label-arrow\">LogisticRegression</label><div class=\"sk-toggleable__content\"><pre>LogisticRegression(C=0.1, penalty=&#x27;l1&#x27;, solver=&#x27;liblinear&#x27;)</pre></div></div></div></div></div>"
      ],
      "text/plain": [
       "LogisticRegression(C=0.1, penalty='l1', solver='liblinear')"
      ]
     },
     "execution_count": 10,
     "metadata": {},
     "output_type": "execute_result"
    }
   ],
   "source": [
    "'''\n",
    "Fit the model to training data\n",
    "'''\n",
    "long_model.fit(x_train_candles, y_train_long)\n",
    "short_model.fit(x_train_candles, y_train_short)"
   ]
  },
  {
   "cell_type": "markdown",
   "metadata": {},
   "source": [
    "### Model Testing"
   ]
  },
  {
   "cell_type": "code",
   "execution_count": 11,
   "metadata": {},
   "outputs": [],
   "source": [
    "'''\n",
    "Identify the predicted wins as those are the trades we will be taking and therefore what the \n",
    "succes of the model is going to based off of\n",
    "'''\n",
    "long_test_results = pd.DataFrame(long_model.predict(x_test_candles), columns=['predictions'])\n",
    "long_test_results['actual'] = y_test_long\n",
    "long_takes = long_test_results.loc[long_test_results['predictions'] == True]\n",
    "long_takes_count = long_takes['actual'].count()\n",
    "\n",
    "short_test_results = pd.DataFrame(short_model.predict(x_test_candles), columns=['predictions'])\n",
    "short_test_results['actual'] = y_test_short\n",
    "short_takes = short_test_results.loc[short_test_results['predictions'] == True]\n",
    "short_takes_count = short_takes['actual'].count()"
   ]
  },
  {
   "cell_type": "code",
   "execution_count": 12,
   "metadata": {},
   "outputs": [
    {
     "name": "stdout",
     "output_type": "stream",
     "text": [
      "Long Trades:\n",
      "\n",
      "Model accuracy: 0.7929324240545568 \n",
      "Count: 1613\n",
      "Random accuracy: 0.545128706419029\n"
     ]
    }
   ],
   "source": [
    "'''\n",
    "Final metrics of model testing.\n",
    "'''\n",
    "print(f\"Long Trades:\\n\\nModel accuracy: {long_takes['actual'].mean()} \\nCount: {long_takes_count}\")\n",
    "print(f\"Random accuracy: {y_test_long.mean()}\")"
   ]
  },
  {
   "cell_type": "code",
   "execution_count": 13,
   "metadata": {},
   "outputs": [
    {
     "name": "stdout",
     "output_type": "stream",
     "text": [
      "Short Trades: \n",
      "\n",
      "Model accuracy: 0.807865892972276 \n",
      "Count: 1551\n",
      "Random accuracy: 0.5493646138807429\n"
     ]
    }
   ],
   "source": [
    "print(f\"Short Trades: \\n\\nModel accuracy: {short_takes['actual'].mean()} \\nCount: {short_takes_count}\")\n",
    "print(f\"Random accuracy: {y_test_short.mean()}\")"
   ]
  },
  {
   "cell_type": "code",
   "execution_count": 14,
   "metadata": {},
   "outputs": [
    {
     "data": {
      "text/plain": [
       "2.458204863953639"
      ]
     },
     "execution_count": 14,
     "metadata": {},
     "output_type": "execute_result"
    }
   ],
   "source": [
    "'''\n",
    "Calculate the growth multiplier over the test data (approx. a calendar year) based on a 1% risk\n",
    "'''\n",
    "long_wins = long_takes.loc[long_takes['actual'] == True, 'actual'].count()\n",
    "long_ror = ((301/300) ** long_wins) * (0.99 ** (long_takes_count - long_wins))\n",
    "long_ror"
   ]
  },
  {
   "cell_type": "code",
   "execution_count": 15,
   "metadata": {},
   "outputs": [
    {
     "data": {
      "text/plain": [
       "3.2372393100069967"
      ]
     },
     "execution_count": 15,
     "metadata": {},
     "output_type": "execute_result"
    }
   ],
   "source": [
    "short_wins = short_takes.loc[short_takes['actual'] == True, 'actual'].count()\n",
    "short_ror = ((301/300) ** short_wins) * (0.99 ** (short_takes_count - short_wins))\n",
    "short_ror"
   ]
  }
 ],
 "metadata": {
  "kernelspec": {
   "display_name": "Python 3",
   "language": "python",
   "name": "python3"
  },
  "language_info": {
   "codemirror_mode": {
    "name": "ipython",
    "version": 3
   },
   "file_extension": ".py",
   "mimetype": "text/x-python",
   "name": "python",
   "nbconvert_exporter": "python",
   "pygments_lexer": "ipython3",
   "version": "3.8.5"
  }
 },
 "nbformat": 4,
 "nbformat_minor": 4
}
