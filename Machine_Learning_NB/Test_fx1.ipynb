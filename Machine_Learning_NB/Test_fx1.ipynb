{
 "cells": [
  {
   "cell_type": "code",
   "execution_count": 1,
   "metadata": {},
   "outputs": [],
   "source": [
    "import pandas as pd\n",
    "import numpy as np\n",
    "import OANDA_api as api\n",
    "import Indicators"
   ]
  },
  {
   "cell_type": "code",
   "execution_count": 2,
   "metadata": {},
   "outputs": [],
   "source": [
    "sess = api.oanda_api()"
   ]
  },
  {
   "cell_type": "code",
   "execution_count": 3,
   "metadata": {},
   "outputs": [],
   "source": [
    "candles = sess.complete_candles_df('USD_CAD', 35000, 'H2', 'MBA')"
   ]
  },
  {
   "cell_type": "code",
   "execution_count": 4,
   "metadata": {
    "scrolled": false
   },
   "outputs": [
    {
     "data": {
      "text/html": [
       "<div>\n",
       "<style scoped>\n",
       "    .dataframe tbody tr th:only-of-type {\n",
       "        vertical-align: middle;\n",
       "    }\n",
       "\n",
       "    .dataframe tbody tr th {\n",
       "        vertical-align: top;\n",
       "    }\n",
       "\n",
       "    .dataframe thead th {\n",
       "        text-align: right;\n",
       "    }\n",
       "</style>\n",
       "<table border=\"1\" class=\"dataframe\">\n",
       "  <thead>\n",
       "    <tr style=\"text-align: right;\">\n",
       "      <th></th>\n",
       "      <th>time</th>\n",
       "      <th>volume</th>\n",
       "      <th>mid_o</th>\n",
       "      <th>mid_h</th>\n",
       "      <th>mid_l</th>\n",
       "      <th>mid_c</th>\n",
       "      <th>bid_o</th>\n",
       "      <th>bid_h</th>\n",
       "      <th>bid_l</th>\n",
       "      <th>bid_c</th>\n",
       "      <th>ask_o</th>\n",
       "      <th>ask_h</th>\n",
       "      <th>ask_l</th>\n",
       "      <th>ask_c</th>\n",
       "    </tr>\n",
       "  </thead>\n",
       "  <tbody>\n",
       "    <tr>\n",
       "      <th>0</th>\n",
       "      <td>2011-05-20T17:00:00.000000000Z</td>\n",
       "      <td>2728</td>\n",
       "      <td>0.97194</td>\n",
       "      <td>0.97232</td>\n",
       "      <td>0.96950</td>\n",
       "      <td>0.97224</td>\n",
       "      <td>0.97183</td>\n",
       "      <td>0.97221</td>\n",
       "      <td>0.96939</td>\n",
       "      <td>0.97212</td>\n",
       "      <td>0.97206</td>\n",
       "      <td>0.97244</td>\n",
       "      <td>0.96962</td>\n",
       "      <td>0.97235</td>\n",
       "    </tr>\n",
       "    <tr>\n",
       "      <th>1</th>\n",
       "      <td>2011-05-20T19:00:00.000000000Z</td>\n",
       "      <td>1758</td>\n",
       "      <td>0.97226</td>\n",
       "      <td>0.97412</td>\n",
       "      <td>0.97197</td>\n",
       "      <td>0.97404</td>\n",
       "      <td>0.97214</td>\n",
       "      <td>0.97362</td>\n",
       "      <td>0.97151</td>\n",
       "      <td>0.97354</td>\n",
       "      <td>0.97237</td>\n",
       "      <td>0.97462</td>\n",
       "      <td>0.97209</td>\n",
       "      <td>0.97454</td>\n",
       "    </tr>\n",
       "    <tr>\n",
       "      <th>2</th>\n",
       "      <td>2011-05-20T21:00:00.000000000Z</td>\n",
       "      <td>1</td>\n",
       "      <td>0.97404</td>\n",
       "      <td>0.97404</td>\n",
       "      <td>0.97404</td>\n",
       "      <td>0.97404</td>\n",
       "      <td>0.97354</td>\n",
       "      <td>0.97354</td>\n",
       "      <td>0.97354</td>\n",
       "      <td>0.97354</td>\n",
       "      <td>0.97454</td>\n",
       "      <td>0.97454</td>\n",
       "      <td>0.97454</td>\n",
       "      <td>0.97454</td>\n",
       "    </tr>\n",
       "    <tr>\n",
       "      <th>3</th>\n",
       "      <td>2011-05-20T23:00:00.000000000Z</td>\n",
       "      <td>1</td>\n",
       "      <td>0.97404</td>\n",
       "      <td>0.97404</td>\n",
       "      <td>0.97404</td>\n",
       "      <td>0.97404</td>\n",
       "      <td>0.97354</td>\n",
       "      <td>0.97354</td>\n",
       "      <td>0.97354</td>\n",
       "      <td>0.97354</td>\n",
       "      <td>0.97454</td>\n",
       "      <td>0.97454</td>\n",
       "      <td>0.97454</td>\n",
       "      <td>0.97454</td>\n",
       "    </tr>\n",
       "    <tr>\n",
       "      <th>4</th>\n",
       "      <td>2011-05-21T01:00:00.000000000Z</td>\n",
       "      <td>1</td>\n",
       "      <td>0.97404</td>\n",
       "      <td>0.97404</td>\n",
       "      <td>0.97404</td>\n",
       "      <td>0.97404</td>\n",
       "      <td>0.97354</td>\n",
       "      <td>0.97354</td>\n",
       "      <td>0.97354</td>\n",
       "      <td>0.97354</td>\n",
       "      <td>0.97454</td>\n",
       "      <td>0.97454</td>\n",
       "      <td>0.97454</td>\n",
       "      <td>0.97454</td>\n",
       "    </tr>\n",
       "  </tbody>\n",
       "</table>\n",
       "</div>"
      ],
      "text/plain": [
       "                             time  volume    mid_o    mid_h    mid_l    mid_c  \\\n",
       "0  2011-05-20T17:00:00.000000000Z    2728  0.97194  0.97232  0.96950  0.97224   \n",
       "1  2011-05-20T19:00:00.000000000Z    1758  0.97226  0.97412  0.97197  0.97404   \n",
       "2  2011-05-20T21:00:00.000000000Z       1  0.97404  0.97404  0.97404  0.97404   \n",
       "3  2011-05-20T23:00:00.000000000Z       1  0.97404  0.97404  0.97404  0.97404   \n",
       "4  2011-05-21T01:00:00.000000000Z       1  0.97404  0.97404  0.97404  0.97404   \n",
       "\n",
       "     bid_o    bid_h    bid_l    bid_c    ask_o    ask_h    ask_l    ask_c  \n",
       "0  0.97183  0.97221  0.96939  0.97212  0.97206  0.97244  0.96962  0.97235  \n",
       "1  0.97214  0.97362  0.97151  0.97354  0.97237  0.97462  0.97209  0.97454  \n",
       "2  0.97354  0.97354  0.97354  0.97354  0.97454  0.97454  0.97454  0.97454  \n",
       "3  0.97354  0.97354  0.97354  0.97354  0.97454  0.97454  0.97454  0.97454  \n",
       "4  0.97354  0.97354  0.97354  0.97354  0.97454  0.97454  0.97454  0.97454  "
      ]
     },
     "execution_count": 4,
     "metadata": {},
     "output_type": "execute_result"
    }
   ],
   "source": [
    "candles.head()"
   ]
  },
  {
   "cell_type": "code",
   "execution_count": 5,
   "metadata": {},
   "outputs": [
    {
     "name": "stderr",
     "output_type": "stream",
     "text": [
      "/Users/ronaldsmith/PycharmProjects/FXbot/Indicators.py:114: RuntimeWarning: divide by zero encountered in double_scalars\n",
      "  rs.append(100 - (100 / (1 + (cag / cal))))\n",
      "/Users/ronaldsmith/PycharmProjects/FXbot/Indicators.py:120: RuntimeWarning: divide by zero encountered in double_scalars\n",
      "  rs.append(100 - (100 / (1 + (cag / (cal)))))\n",
      "/Users/ronaldsmith/PycharmProjects/FXbot/Indicators.py:154: RuntimeWarning: invalid value encountered in double_scalars\n",
      "  stochastic_k = ((curr_close - low) / (high - low)) * 100\n"
     ]
    }
   ],
   "source": [
    "Indicators.relative_strength_index(candles)\n",
    "Indicators.macd(candles)\n",
    "Indicators.stochastic(candles)"
   ]
  },
  {
   "cell_type": "code",
   "execution_count": 6,
   "metadata": {},
   "outputs": [],
   "source": [
    "candles['spread'] = candles['ask_o'] - candles['bid_o']"
   ]
  },
  {
   "cell_type": "code",
   "execution_count": 7,
   "metadata": {},
   "outputs": [],
   "source": [
    "candles['mid_c_prev'] = candles['mid_c'].rolling(1).mean()"
   ]
  },
  {
   "cell_type": "code",
   "execution_count": 8,
   "metadata": {},
   "outputs": [],
   "source": [
    "candles['long'] = False\n",
    "candles['short'] = False\n",
    "\n",
    "for candle in range(len(candles)):\n",
    "    if (candles.loc[candle, 'bid_o'] + 0.001 <= candles.loc[candle, 'ask_h'] and \n",
    "        candles.loc[candle, 'bid_o'] - 0.003 <= candles.loc[candle, 'ask_l']):\n",
    "        candles.loc[candle, 'long'] = True\n",
    "    if (candles.loc[candle, 'ask_o'] - 0.001 >= candles.loc[candle, 'bid_l'] and \n",
    "        candles.loc[candle, 'ask_o'] + 0.003 >= candles.loc[candle, 'bid_h']):\n",
    "        candles.loc[candle, 'short'] = True"
   ]
  },
  {
   "cell_type": "code",
   "execution_count": 9,
   "metadata": {},
   "outputs": [],
   "source": [
    "candles['rsi_14_lag_1'] = candles['rsi_14'].rolling(1).mean()\n",
    "candles['MACD_12_26_9_lag_1'] = candles['MACD_12_26_9'].rolling(1).mean()\n",
    "\n",
    "for lag in range(2,11):\n",
    "    candles[f'rsi_14_lag_{lag}'] = candles[f'rsi_14_lag_{lag-1}'].rolling(1).mean()\n",
    "    candles[f'MACD_12_26_9_lag_{lag}'] = candles[f'MACD_12_26_9_lag_{lag-1}'].rolling(1).mean()"
   ]
  },
  {
   "cell_type": "code",
   "execution_count": 10,
   "metadata": {},
   "outputs": [],
   "source": [
    "candles['mid_o_lag_1'] = candles['mid_o'].rolling(1).mean()\n",
    "candles['mid_l_lag_1'] = candles['mid_l'].rolling(1).mean()\n",
    "candles['mid_h_lag_1'] = candles['mid_h'].rolling(1).mean()\n",
    "\n",
    "for lag in range(2,11):\n",
    "    candles[f'mid_o_lag_{lag}'] = candles[f'mid_o_lag_{lag-1}'].rolling(1).mean()\n",
    "    candles[f'mid_l_lag_{lag}'] = candles[f'mid_l_lag_{lag-1}'].rolling(1).mean()\n",
    "    candles[f'mid_h_lag_{lag}'] = candles[f'mid_h_lag_{lag-1}'].rolling(1).mean()"
   ]
  },
  {
   "cell_type": "code",
   "execution_count": 11,
   "metadata": {},
   "outputs": [],
   "source": [
    "candles['range_14'] = float('nan') \n",
    "\n",
    "for candle in range(14,len(candles)):\n",
    "    low = min(candles.loc[candle-14 : candle, f'mid_l'])\n",
    "    high = max(candles.loc[candle-14 : candle, f'mid_h'])\n",
    "    candles.loc[candle, 'range_14'] = high - low"
   ]
  },
  {
   "cell_type": "code",
   "execution_count": 12,
   "metadata": {},
   "outputs": [],
   "source": [
    "candles['stochastic_range_k'] = candles['range_14'] * candles['stochastic_k']\n",
    "candles['stochastic_range_d'] = candles['range_14'] * candles['stochastic_d']"
   ]
  },
  {
   "cell_type": "code",
   "execution_count": 13,
   "metadata": {},
   "outputs": [],
   "source": [
    "candles['stochastic_range_k_lag_1'] = candles['stochastic_range_k'].rolling(1).mean()\n",
    "candles['stochastic_range_d_lag_1'] = candles['stochastic_range_d'].rolling(1).mean()\n",
    "\n",
    "for lag in range(2,11):\n",
    "    candles[f'stochastic_range_k_lag_{lag}'] = candles['stochastic_range_k'].rolling(1).mean()\n",
    "    candles[f'stochastic_range_d_lag_{lag}'] = candles['stochastic_range_d'].rolling(1).mean()"
   ]
  },
  {
   "cell_type": "code",
   "execution_count": 14,
   "metadata": {
    "scrolled": true
   },
   "outputs": [
    {
     "data": {
      "text/plain": [
       "Index(['time', 'volume', 'mid_o', 'mid_h', 'mid_l', 'mid_c', 'bid_o', 'bid_h',\n",
       "       'bid_l', 'bid_c', 'ask_o', 'ask_h', 'ask_l', 'ask_c', 'rsi_14',\n",
       "       'MACD_12_26_9', 'stochastic_k', 'stochastic_d', 'spread', 'mid_c_prev',\n",
       "       'long', 'short', 'rsi_14_lag_1', 'MACD_12_26_9_lag_1', 'rsi_14_lag_2',\n",
       "       'MACD_12_26_9_lag_2', 'rsi_14_lag_3', 'MACD_12_26_9_lag_3',\n",
       "       'rsi_14_lag_4', 'MACD_12_26_9_lag_4', 'rsi_14_lag_5',\n",
       "       'MACD_12_26_9_lag_5', 'rsi_14_lag_6', 'MACD_12_26_9_lag_6',\n",
       "       'rsi_14_lag_7', 'MACD_12_26_9_lag_7', 'rsi_14_lag_8',\n",
       "       'MACD_12_26_9_lag_8', 'rsi_14_lag_9', 'MACD_12_26_9_lag_9',\n",
       "       'rsi_14_lag_10', 'MACD_12_26_9_lag_10', 'mid_o_lag_1', 'mid_l_lag_1',\n",
       "       'mid_h_lag_1', 'mid_o_lag_2', 'mid_l_lag_2', 'mid_h_lag_2',\n",
       "       'mid_o_lag_3', 'mid_l_lag_3', 'mid_h_lag_3', 'mid_o_lag_4',\n",
       "       'mid_l_lag_4', 'mid_h_lag_4', 'mid_o_lag_5', 'mid_l_lag_5',\n",
       "       'mid_h_lag_5', 'mid_o_lag_6', 'mid_l_lag_6', 'mid_h_lag_6',\n",
       "       'mid_o_lag_7', 'mid_l_lag_7', 'mid_h_lag_7', 'mid_o_lag_8',\n",
       "       'mid_l_lag_8', 'mid_h_lag_8', 'mid_o_lag_9', 'mid_l_lag_9',\n",
       "       'mid_h_lag_9', 'mid_o_lag_10', 'mid_l_lag_10', 'mid_h_lag_10',\n",
       "       'range_14', 'stochastic_range_k', 'stochastic_range_d',\n",
       "       'stochastic_range_k_lag_1', 'stochastic_range_d_lag_1',\n",
       "       'stochastic_range_k_lag_2', 'stochastic_range_d_lag_2',\n",
       "       'stochastic_range_k_lag_3', 'stochastic_range_d_lag_3',\n",
       "       'stochastic_range_k_lag_4', 'stochastic_range_d_lag_4',\n",
       "       'stochastic_range_k_lag_5', 'stochastic_range_d_lag_5',\n",
       "       'stochastic_range_k_lag_6', 'stochastic_range_d_lag_6',\n",
       "       'stochastic_range_k_lag_7', 'stochastic_range_d_lag_7',\n",
       "       'stochastic_range_k_lag_8', 'stochastic_range_d_lag_8',\n",
       "       'stochastic_range_k_lag_9', 'stochastic_range_d_lag_9',\n",
       "       'stochastic_range_k_lag_10', 'stochastic_range_d_lag_10'],\n",
       "      dtype='object')"
      ]
     },
     "execution_count": 14,
     "metadata": {},
     "output_type": "execute_result"
    }
   ],
   "source": [
    "candles.columns"
   ]
  },
  {
   "cell_type": "code",
   "execution_count": 15,
   "metadata": {},
   "outputs": [],
   "source": [
    "candle_data = ['mid_o_lag_1', 'mid_l_lag_1', 'mid_h_lag_1',\n",
    "       'mid_o_lag_2', 'mid_l_lag_2', 'mid_h_lag_2', 'mid_o_lag_3',\n",
    "       'mid_l_lag_3', 'mid_h_lag_3', 'mid_o_lag_4', 'mid_l_lag_4',\n",
    "       'mid_h_lag_4', 'mid_o_lag_5', 'mid_l_lag_5', 'mid_h_lag_5',\n",
    "       'mid_o_lag_6', 'mid_l_lag_6', 'mid_h_lag_6', 'mid_o_lag_7',\n",
    "       'mid_l_lag_7', 'mid_h_lag_7', 'mid_o_lag_8', 'mid_l_lag_8',\n",
    "       'mid_h_lag_8', 'mid_o_lag_9', 'mid_l_lag_9', 'mid_h_lag_9']\n",
    "\n",
    "for col in candle_data:\n",
    "    candles[col] = candles['mid_o'] - candles[col]"
   ]
  },
  {
   "cell_type": "code",
   "execution_count": 16,
   "metadata": {},
   "outputs": [],
   "source": [
    "candles.drop(['mid_o', 'mid_h', 'mid_l', 'mid_c', 'bid_o', 'bid_h', \n",
    "              'bid_l', 'bid_c', 'ask_o', 'ask_h', 'ask_l', 'ask_c', \n",
    "              'time', 'volume'],\n",
    "             axis=1, inplace=True)"
   ]
  },
  {
   "cell_type": "code",
   "execution_count": 17,
   "metadata": {},
   "outputs": [],
   "source": [
    "candles.dropna(inplace=True)"
   ]
  },
  {
   "cell_type": "code",
   "execution_count": 19,
   "metadata": {},
   "outputs": [],
   "source": [
    "candles.to_pickle('CAD_USD_H2')"
   ]
  }
 ],
 "metadata": {
  "kernelspec": {
   "display_name": "Python 3",
   "language": "python",
   "name": "python3"
  },
  "language_info": {
   "codemirror_mode": {
    "name": "ipython",
    "version": 3
   },
   "file_extension": ".py",
   "mimetype": "text/x-python",
   "name": "python",
   "nbconvert_exporter": "python",
   "pygments_lexer": "ipython3",
   "version": "3.8.5"
  }
 },
 "nbformat": 4,
 "nbformat_minor": 4
}
